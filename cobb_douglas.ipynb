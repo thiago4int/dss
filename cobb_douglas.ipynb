{
  "nbformat": 4,
  "nbformat_minor": 0,
  "metadata": {
    "colab": {
      "provenance": [],
      "include_colab_link": true
    },
    "kernelspec": {
      "name": "python3",
      "display_name": "Python 3"
    },
    "language_info": {
      "name": "python"
    }
  },
  "cells": [
    {
      "cell_type": "markdown",
      "metadata": {
        "id": "view-in-github",
        "colab_type": "text"
      },
      "source": [
        "<a href=\"https://colab.research.google.com/github/thiago4int/dss/blob/main/cobb_douglas.ipynb\" target=\"_parent\"><img src=\"https://colab.research.google.com/assets/colab-badge.svg\" alt=\"Open In Colab\"/></a>"
      ]
    },
    {
      "cell_type": "code",
      "source": [
        "import matplotlib.pyplot as plt\n",
        "import numpy as np\n",
        "\n",
        "# Assumptions das máquinas (VMs e DBs)\n",
        "vm_sem_commit_preco = 212\n",
        "vm_com_commit_preco = 105\n",
        "db_sem_commit_preco = 420\n",
        "db_com_commit_preco = 210\n",
        "\n",
        "# Especificações: 8 vCPUs e 32 GB de RAM para todas as VMs e DBs\n",
        "\n",
        "# Função Cobb-Douglas para calcular a produção com base nas VMs e DBs\n",
        "def funcao_cobb_douglas(qtd_vms, qtd_dbs):\n",
        "    A = 1  # Constante de eficiência tecnológica\n",
        "    alpha = 0.6  # Elasticidade das VMs (L intensive)\n",
        "    beta = 0.4   # Elasticidade das DBs (K intensive)\n",
        "    producao = A * (qtd_vms ** alpha) * (qtd_dbs ** beta)\n",
        "    return producao"
      ],
      "metadata": {
        "id": "ThtqaoX76hjw"
      },
      "execution_count": null,
      "outputs": []
    },
    {
      "cell_type": "code",
      "source": [
        "# Função para calcular os custos com base na quantidade de instâncias e commit\n",
        "def calcular_custos(qtd_vms, pct_vm_commit, qtd_dbs, pct_db_commit, desligar_nao_commitadas=False):\n",
        "    # Cálculo da quantidade de VMs e DBs commitadas e não commitadas\n",
        "    qtd_vms_commitadas = int((pct_vm_commit / 100) * qtd_vms)\n",
        "    qtd_vms_nao_commitadas = qtd_vms - qtd_vms_commitadas\n",
        "\n",
        "    qtd_dbs_commitadas = int((pct_db_commit / 100) * qtd_dbs)\n",
        "    qtd_dbs_nao_commitadas = qtd_dbs - qtd_dbs_commitadas\n",
        "\n",
        "    # Se pudermos desligar instâncias não commitadas, reduzimos o custo das não commitadas\n",
        "    if desligar_nao_commitadas:\n",
        "        qtd_vms_nao_commitadas = max(0, qtd_vms_nao_commitadas - int(0.5 * qtd_vms))  # Exemplo de desligar 50% das não commitadas\n",
        "        qtd_dbs_nao_commitadas = max(0, qtd_dbs_nao_commitadas - int(0.5 * qtd_dbs))  # Exemplo de desligar 50% das não commitadas\n",
        "\n",
        "    # Calcular o custo total para VMs\n",
        "    custo_total_vms = (qtd_vms_commitadas * vm_com_commit_preco) + (qtd_vms_nao_commitadas * vm_sem_commit_preco)\n",
        "\n",
        "    # Calcular o custo total para DBs\n",
        "    custo_total_dbs = (qtd_dbs_commitadas * db_com_commit_preco) + (qtd_dbs_nao_commitadas * db_sem_commit_preco)\n",
        "\n",
        "    return custo_total_vms, custo_total_dbs\n",
        "\n",
        "# Função para calcular o custo de oportunidade\n",
        "def calcular_custo_oportunidade(custo_total_commit, taxa_retorno, qtd_instancias_commitadas):\n",
        "    \"\"\"Calcula o custo de oportunidade baseado no custo commitado e na taxa de retorno (taxa livre de risco).\"\"\"\n",
        "    custo_oportunidade = custo_total_commit * taxa_retorno * qtd_instancias_commitadas\n",
        "    return custo_oportunidade\n",
        "\n",
        "# Função para calcular o Índice de Sharpe ajustado\n",
        "def calcular_sharpe(roi, risco, custo_oportunidade, taxa_livre_risco=0.1075):\n",
        "    \"\"\"Calcula o Índice de Sharpe ajustado considerando o ROI e o custo de oportunidade.\"\"\"\n",
        "    roi_ajustado = roi - custo_oportunidade  # Ajustar o ROI com base no custo de oportunidade\n",
        "    sharpe_ratio = (roi_ajustado - taxa_livre_risco) / risco\n",
        "    return sharpe_ratio"
      ],
      "metadata": {
        "id": "yRY1erZC-fG9"
      },
      "execution_count": null,
      "outputs": []
    },
    {
      "cell_type": "code",
      "source": [
        "# Função para calcular o ROI total e ajustar pelo Índice de Sharpe\n",
        "def calcular_roi_ajustado(custo_total_vms, custo_total_dbs, receita_total, risco, taxa_retorno, qtd_vms_commitadas, qtd_dbs_commitadas):\n",
        "    custo_total = custo_total_vms + custo_total_dbs\n",
        "    fcf = receita_total - custo_total  # Fluxo de Caixa Livre (FCF)\n",
        "\n",
        "    # Garantir que FCF seja positivo\n",
        "    if fcf <= 0:\n",
        "        return None, None  # Ignorar essa combinação se o FCF for negativo ou zero\n",
        "\n",
        "    roi = fcf / custo_total  # ROI básico\n",
        "\n",
        "    # Garantir que ROI seja positivo\n",
        "    if roi <= 0:\n",
        "        return None, None  # Ignorar essa combinação se o ROI for negativo ou zero\n",
        "\n",
        "    # Calcular o custo de oportunidade total (considerando apenas instâncias commitadas)\n",
        "    custo_oportunidade_vms = calcular_custo_oportunidade(custo_total_vms, taxa_retorno, qtd_vms_commitadas)\n",
        "    custo_oportunidade_dbs = calcular_custo_oportunidade(custo_total_dbs, taxa_retorno, qtd_dbs_commitadas)\n",
        "\n",
        "    # ROI ajustado pelo Sharpe\n",
        "    roi_ajustado = calcular_sharpe(roi, risco, custo_oportunidade_vms + custo_oportunidade_dbs)\n",
        "\n",
        "    return fcf, roi_ajustado"
      ],
      "metadata": {
        "id": "Jdk0lHzn-jJF"
      },
      "execution_count": null,
      "outputs": []
    },
    {
      "cell_type": "code",
      "source": [
        "# Função para simular vários cenários e encontrar o melhor mix de commit e não commit\n",
        "def simular_melhor_mix(receita_total, risco, taxa_retorno, desligar_nao_commitadas=False):\n",
        "    melhor_fcf = -np.inf\n",
        "    melhor_roi = -np.inf\n",
        "    melhor_mix = None\n",
        "    melhor_budget = 0\n",
        "\n",
        "    # Adicionamos mais verificações para garantir que há uma combinação válida\n",
        "    encontrou_comb_validas = False\n",
        "\n",
        "    # Simular budgets crescentes e diferentes porcentagens de commit para VMs e DBs\n",
        "    for budget in range(1000000, 3000000, 100000):  # Orçamentos de $1M a $3M para garantir mais instâncias\n",
        "        for pct_vm_commit in range(0, 101, 10):  # Incrementos de 10%\n",
        "            for pct_db_commit in range(0, 101, 10):\n",
        "                # Estimar quantas VMs e DBs podem ser provisionadas com o orçamento\n",
        "                qtd_vms = budget // vm_sem_commit_preco\n",
        "                qtd_dbs = budget // db_sem_commit_preco\n",
        "\n",
        "                # Garantir que o número de instâncias seja positivo\n",
        "                if qtd_vms <= 0 or qtd_dbs <= 0:\n",
        "                    continue  # Pular esse budget se o número de instâncias for inválido\n",
        "\n",
        "                encontrou_comb_validas = True  # Encontrou uma combinação válida, seguimos\n",
        "\n",
        "                # Calcular os custos totais para VMs e DBs, agora considerando se podemos desligar instâncias não commitadas\n",
        "                custo_total_vms, custo_total_dbs = calcular_custos(qtd_vms, pct_vm_commit, qtd_dbs, pct_db_commit, desligar_nao_commitadas=desligar_nao_commitadas)\n",
        "\n",
        "                # Quantidade de instâncias commitadas\n",
        "                qtd_vms_commitadas = int((pct_vm_commit / 100) * qtd_vms)\n",
        "                qtd_dbs_commitadas = int((pct_db_commit / 100) * qtd_dbs)\n",
        "\n",
        "                # Calcular a produção com base na função Cobb-Douglas\n",
        "                receita_ajustada = funcao_cobb_douglas(qtd_vms, qtd_dbs)\n",
        "\n",
        "                # Calcular o ROI ajustado pelo Sharpe\n",
        "                fcf, roi_ajustado = calcular_roi_ajustado(custo_total_vms, custo_total_dbs, receita_ajustada, risco, taxa_retorno, qtd_vms_commitadas, qtd_dbs_commitadas)\n",
        "\n",
        "                # Ignorar combinações com FCF ou ROI inválidos\n",
        "                if fcf is None or roi_ajustado is None:\n",
        "                    continue\n",
        "\n",
        "                # Verificar se esse mix é o melhor até agora\n",
        "                if roi_ajustado > melhor_roi or (roi_ajustado == melhor_roi and fcf > melhor_fcf):\n",
        "                    melhor_roi = roi_ajustado\n",
        "                    melhor_fcf = fcf\n",
        "                    melhor_mix = (pct_vm_commit, pct_db_commit)\n",
        "                    melhor_budget = budget\n",
        "\n",
        "    # Verificar se houve combinação válida\n",
        "    if not encontrou_comb_validas:\n",
        "        print(\"Nenhuma combinação válida foi encontrada.\")\n",
        "        return\n",
        "\n",
        "    if melhor_mix is None:\n",
        "        print(\"Nenhuma combinação válida com FCF positivo foi encontrada.\")\n",
        "        return\n",
        "\n",
        "    # Exibir o melhor mix e o budget encontrado\n",
        "    print(f\"Melhor Mix Encontrado:\")\n",
        "    print(f\"% de VMs Commitadas: {melhor_mix[0]}%\")\n",
        "    print(f\"% de DBs Commitadas: {melhor_mix[1]}%\")\n",
        "    print(f\"Melhor Budget: ${melhor_budget}\")\n",
        "    print(f\"Melhor Fluxo de Caixa Livre (FCF): ${melhor_fcf:.2f}\")\n",
        "    print(f\"Melhor ROI Ajustado pelo Sharpe: {melhor_roi:.4f}\")\n",
        "\n",
        "    # Plotar os resultados\n",
        "    if melhor_fcf > 0 and melhor_roi > 0:\n",
        "        fig, ax = plt.subplots()\n",
        "        ax.bar(['FCF', 'ROI Ajustado'], [melhor_fcf, melhor_roi], color=['blue', 'green'])\n",
        "        ax.set_title('Melhor Mix: FCF e ROI Ajustado')\n",
        "        ax.set_ylabel('Valores ($ ou %)')\n",
        "        plt.show()\n",
        "\n",
        "# Executar a simulação para encontrar o melhor mix com base na receita\n",
        "simular_melhor_mix(receita_total=5000000, risco=0.15, taxa_retorno=0.1075, desligar_nao_commitadas=True)"
      ],
      "metadata": {
        "colab": {
          "base_uri": "https://localhost:8080/"
        },
        "id": "4x9VZVQp-mPh",
        "outputId": "85708629-9233-4820-e9b1-67f6db338e3b"
      },
      "execution_count": null,
      "outputs": [
        {
          "output_type": "stream",
          "name": "stdout",
          "text": [
            "Nenhuma combinação válida com FCF positivo foi encontrada.\n"
          ]
        }
      ]
    },
    {
      "cell_type": "code",
      "source": [],
      "metadata": {
        "id": "4O_ayuX4-qpV"
      },
      "execution_count": null,
      "outputs": []
    }
  ]
}